{
 "cells": [
  {
   "cell_type": "markdown",
   "metadata": {},
   "source": [
    "## BayesNN 实现 mnist 数据分类\n",
    "\n",
    "### 第一步：加载 mnist 数据集"
   ]
  },
  {
   "cell_type": "code",
   "execution_count": 1,
   "metadata": {},
   "outputs": [],
   "source": [
    "import os\n",
    "import tensorflow as tf\n",
    "import tensorflow_probability as tfp\n",
    "import matplotlib.pyplot as plt\n",
    "import numpy as np\n",
    "K = tf.keras\n",
    "tfd = tfp.distributions"
   ]
  },
  {
   "cell_type": "code",
   "execution_count": 2,
   "metadata": {},
   "outputs": [
    {
     "name": "stdout",
     "output_type": "stream",
     "text": [
      "(60000, 28, 28, 1) (10000, 28, 28, 1) (60000,) (10000,)\n"
     ]
    },
    {
     "data": {
      "image/png": "[encoded data removed]",
      "text/plain": [
       "<Figure size 432x216 with 10 Axes>"
      ]
     },
     "metadata": {},
     "output_type": "display_data"
    }
   ],
   "source": [
    "def get_minibatch(x, y, n_batch, n_iter):\n",
    "    num = x.shape[0]\n",
    "    for idx in range(0, n_iter):\n",
    "        perm = np.random.permutation(num)[0:n_batch]\n",
    "        batchx = x[perm]\n",
    "        batchy = y[perm]\n",
    "        yield batchx, batchy\n",
    "\n",
    "# Load Dataset\n",
    "(m_xtr,m_ytr),(m_xte,m_yte) = K.datasets.mnist.load_data()\n",
    "m_xtr = np.expand_dims(m_xtr,3)/255.\n",
    "m_xte = np.expand_dims(m_xte,3)/255.\n",
    "# m_ytr = np.expand_dims(m_ytr,1)\n",
    "# m_yte = np.expand_dims(m_yte,1)\n",
    "print(m_xtr.shape, m_xte.shape, m_ytr.shape, m_yte.shape)\n",
    "\n",
    "#for batchx, batchy in get_minibatch(m_xtr, m_ytr, 10):\n",
    "batchx = m_xtr[0:10]\n",
    "batchy = m_ytr[0:10]\n",
    "plt.figure(figsize=[6,3])\n",
    "for i in range(0,10):\n",
    "    plt.subplot(2,5,i+1)\n",
    "    plt.imshow(batchx[i].reshape(28,28))\n",
    "    plt.title(batchy[i])\n",
    "plt.tight_layout()\n",
    "plt.show()"
   ]
  },
  {
   "cell_type": "markdown",
   "metadata": {},
   "source": [
    "\n",
    "### 第二步：构建 Bayes Neural Network"
   ]
  },
  {
   "cell_type": "code",
   "execution_count": 3,
   "metadata": {},
   "outputs": [
    {
     "name": "stdout",
     "output_type": "stream",
     "text": [
      "0/1000, tracc:0.062, trloss:26.8044, teacc:0.094, teloss:26.1210\n",
      "100/1000, tracc:0.734, trloss:23.1531, teacc:0.802, teloss:23.1275\n",
      "200/1000, tracc:0.875, trloss:22.3666, teacc:0.894, teloss:22.3903\n",
      "300/1000, tracc:0.969, trloss:21.6541, teacc:0.913, teloss:21.8521\n",
      "400/1000, tracc:0.891, trloss:21.4206, teacc:0.937, teloss:21.2632\n",
      "500/1000, tracc:0.953, trloss:20.6886, teacc:0.946, teloss:20.7289\n",
      "600/1000, tracc:0.938, trloss:20.2683, teacc:0.954, teloss:20.2024\n",
      "700/1000, tracc:0.891, trloss:19.8504, teacc:0.954, teloss:19.6857\n",
      "800/1000, tracc:0.969, trloss:19.1673, teacc:0.958, teloss:19.1647\n",
      "900/1000, tracc:0.938, trloss:18.7176, teacc:0.961, teloss:18.6430\n"
     ]
    }
   ],
   "source": [
    "# Define The Model\n",
    "neural_net = tf.keras.Sequential([\n",
    "    tfp.layers.Convolution2DFlipout(6, kernel_size=5, padding=\"SAME\", activation=tf.nn.relu),\n",
    "    tf.keras.layers.MaxPooling2D(pool_size=[2, 2], strides=[2, 2], padding=\"SAME\"),\n",
    "    tfp.layers.Convolution2DFlipout(16, kernel_size=5, padding=\"SAME\", activation=tf.nn.relu),\n",
    "    tf.keras.layers.MaxPooling2D(pool_size=[2, 2], strides=[2, 2], padding=\"SAME\"),\n",
    "    tfp.layers.Convolution2DFlipout(120, kernel_size=5, padding=\"SAME\", activation=tf.nn.relu),\n",
    "    tf.keras.layers.Flatten(),\n",
    "    tfp.layers.DenseFlipout(84, activation=tf.nn.relu),\n",
    "    tfp.layers.DenseFlipout(10)\n",
    "    ])\n",
    "images = tf.placeholder(tf.float32, shape=[None, 28,28,1])\n",
    "labels = tf.placeholder(tf.float32, shape=[None])\n",
    "logits = neural_net(images)\n",
    "labels_distribution = tfd.Categorical(logits=logits)\n",
    "\n",
    "# Loss\n",
    "neg_log_likelihood = -tf.reduce_mean(labels_distribution.log_prob(labels))\n",
    "kl = sum(neural_net.losses) / 60000\n",
    "elbo_loss = neg_log_likelihood + kl\n",
    "# Optimizer\n",
    "optimizer = tf.train.AdamOptimizer(learning_rate=0.001)\n",
    "train_op = optimizer.minimize(elbo_loss)\n",
    "# Accuracy\n",
    "predictions = tf.cast(tf.argmax(logits, axis=1),tf.float32)\n",
    "accuracy = tf.reduce_mean(tf.cast(tf.equal(labels, predictions), tf.float32))\n",
    "\n",
    "# Train\n",
    "sess = tf.Session()\n",
    "sess.run(tf.global_variables_initializer())\n",
    "\n",
    "niter = 1000\n",
    "for i, [batchx, batchy] in enumerate(get_minibatch(m_xtr,m_ytr,64, niter)):\n",
    "    fd = {images: batchx, labels: batchy} #training mode\n",
    "    _, tracc, trloss = sess.run([train_op, accuracy, elbo_loss], feed_dict = fd)\n",
    "    if i%100==0:\n",
    "        teacc, teloss = sess.run([accuracy, elbo_loss], feed_dict={images:m_xte, labels:m_yte})\n",
    "        print('{}/{}, tracc:{:.3f}, trloss:{:.4f}, teacc:{:.3f}, teloss:{:.4f}'.format(i, niter, tracc, trloss, teacc, teloss))"
   ]
  },
  {
   "cell_type": "markdown",
   "metadata": {},
   "source": [
    "### 第三步：可视化不确定性\n",
    "\n",
    "- 可视化模型预测的不确定性"
   ]
  },
  {
   "cell_type": "code",
   "execution_count": null,
   "metadata": {
    "scrolled": false
   },
   "outputs": [
    {
     "name": "stdout",
     "output_type": "stream",
     "text": [
      "(10, 28, 28, 1)\n",
      "(50, 10, 10)\n"
     ]
    }
   ],
   "source": [
    "def plot_heldout_prediction(imgs, probs):\n",
    "    n = imgs.shape[0]\n",
    "    plt.figure(figsize=(9, 3*n))\n",
    "    for i in range(n):\n",
    "        plt.subplot(n, 3, 3*i+1)\n",
    "        plt.imshow(imgs[i].reshape(28,28))\n",
    "        plt.subplot(n, 3, 3*i+2)\n",
    "        for mc_sample in probs:\n",
    "            plt.bar(np.arange(10), mc_sample[i,:], alpha=0.1)\n",
    "        plt.subplot(n, 3, 3*i+3)\n",
    "        plt.bar(np.arange(10), np.mean(probs[:,i,:], axis=0))\n",
    "\n",
    "imgs = m_xte[0:10]\n",
    "num_mc = 50\n",
    "probs = np.zeros([num_mc, imgs.shape[0], 10])\n",
    "for i in range(num_mc):\n",
    "    probs[i] = sess.run(labels_distribution.probs, feed_dict={images:imgs})\n",
    "plot_heldout_prediction(imgs, probs)"
   ]
  }
 ],
 "metadata": {
  "kernelspec": {
   "display_name": "Python 3",
   "language": "python",
   "name": "python3"
  },
  "language_info": {
   "codemirror_mode": {
    "name": "ipython",
    "version": 3
   },
   "file_extension": ".py",
   "mimetype": "text/x-python",
   "name": "python",
   "nbconvert_exporter": "python",
   "pygments_lexer": "ipython3",
   "version": "3.6.4"
  },
  "toc": {
   "base_numbering": 1,
   "nav_menu": {
    "height": "95px",
    "width": "295px"
   },
   "number_sections": false,
   "sideBar": true,
   "skip_h1_title": false,
   "title_cell": "Table of Contents",
   "title_sidebar": "Contents",
   "toc_cell": false,
   "toc_position": {
    "height": "calc(100% - 180px)",
    "left": "10px",
    "top": "150px",
    "width": "320px"
   },
   "toc_section_display": true,
   "toc_window_display": false
  }
 },
 "nbformat": 4,
 "nbformat_minor": 2
}
